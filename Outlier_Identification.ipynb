{
 "cells": [
  {
   "cell_type": "code",
   "execution_count": 127,
   "metadata": {},
   "outputs": [],
   "source": [
    "# initial imports\n",
    "import pandas as pd\n",
    "import numpy as np\n",
    "from numpy import percentile\n",
    "import random\n",
    "from sqlalchemy import create_engine\n",
    "import hvplot.pandas\n",
    "from dotenv import get_key"
   ]
  },
  {
   "cell_type": "code",
   "execution_count": 128,
   "metadata": {},
   "outputs": [],
   "source": [
    "psqgl_credential = get_key('.env', 'CREDENTIAL')\n",
    "con_str = \"postgresql://\" + psqgl_credential + \"@localhost:5432/postgres\"\n",
    "pgsql_engine = create_engine(con_str)\n",
    "db_connection = pgsql_engine.connect()"
   ]
  },
  {
   "cell_type": "code",
   "execution_count": 129,
   "metadata": {},
   "outputs": [
    {
     "data": {
      "text/html": [
       "<div>\n",
       "<style scoped>\n",
       "    .dataframe tbody tr th:only-of-type {\n",
       "        vertical-align: middle;\n",
       "    }\n",
       "\n",
       "    .dataframe tbody tr th {\n",
       "        vertical-align: top;\n",
       "    }\n",
       "\n",
       "    .dataframe thead th {\n",
       "        text-align: right;\n",
       "    }\n",
       "</style>\n",
       "<table border=\"1\" class=\"dataframe\">\n",
       "  <thead>\n",
       "    <tr style=\"text-align: right;\">\n",
       "      <th></th>\n",
       "      <th>card_holder_id</th>\n",
       "      <th>transaction_amount</th>\n",
       "      <th>transaction_date</th>\n",
       "    </tr>\n",
       "  </thead>\n",
       "  <tbody>\n",
       "    <tr>\n",
       "      <th>0</th>\n",
       "      <td>13</td>\n",
       "      <td>6.22</td>\n",
       "      <td>2018-01-01 21:35:10</td>\n",
       "    </tr>\n",
       "    <tr>\n",
       "      <th>1</th>\n",
       "      <td>13</td>\n",
       "      <td>3.83</td>\n",
       "      <td>2018-01-01 21:43:12</td>\n",
       "    </tr>\n",
       "    <tr>\n",
       "      <th>2</th>\n",
       "      <td>10</td>\n",
       "      <td>9.61</td>\n",
       "      <td>2018-01-01 22:41:21</td>\n",
       "    </tr>\n",
       "    <tr>\n",
       "      <th>3</th>\n",
       "      <td>4</td>\n",
       "      <td>19.03</td>\n",
       "      <td>2018-01-01 23:13:30</td>\n",
       "    </tr>\n",
       "    <tr>\n",
       "      <th>4</th>\n",
       "      <td>18</td>\n",
       "      <td>2.95</td>\n",
       "      <td>2018-01-01 23:15:10</td>\n",
       "    </tr>\n",
       "  </tbody>\n",
       "</table>\n",
       "</div>"
      ],
      "text/plain": [
       "   card_holder_id  transaction_amount    transaction_date\n",
       "0              13                6.22 2018-01-01 21:35:10\n",
       "1              13                3.83 2018-01-01 21:43:12\n",
       "2              10                9.61 2018-01-01 22:41:21\n",
       "3               4               19.03 2018-01-01 23:13:30\n",
       "4              18                2.95 2018-01-01 23:15:10"
      ]
     },
     "execution_count": 129,
     "metadata": {},
     "output_type": "execute_result"
    }
   ],
   "source": [
    "sql_query = \"\"\"select card_holder_id, transaction_amount, transaction_date\n",
    "from view_fraud_transactions\"\"\"\n",
    "#group by card_holder_id, transaction_amount, transaction_date\"\"\"\n",
    "df_test = pd.read_sql(sql_query, db_connection)#.dropna()\n",
    "df_test.head()"
   ]
  },
  {
   "cell_type": "code",
   "execution_count": 130,
   "metadata": {},
   "outputs": [],
   "source": [
    "def get_quartiles(df_iqr):\n",
    "    \"\"\"function to identify outliers based on quartiles\"\"\"\n",
    "    df_quartile = pd.DataFrame(columns=['card_holder_id', 'q25', 'q75', 'iqr', 'cut_off', 'lower', 'upper']) #- store quartiles\n",
    "    for col in df_iqr:\n",
    "        if col !='transaction_date':\n",
    "            try:\n",
    "                q25, q75 = percentile(df_iqr[col].dropna(), 25), percentile(df_iqr[col].dropna(), 75)\n",
    "                cut_off = (q75 - q25)* 1.5\n",
    "                lower = q25 - (q75 - q25)* 1.5\n",
    "                upper = q75 + (q75 - q25)* 1.5\n",
    "                df_quartile = df_quartile.append({'card_holder_id':df_iqr[col].name, 'q25':q25 , 'q75': q75, 'iqr':q75 - q25, \n",
    "                                                 'cut-off': cut_off, 'lower': lower,\n",
    "                                                 'upper': upper}, ignore_index=True)\n",
    "                for amount in df_iqr[col]:\n",
    "                    if amount >= upper: #as the lower threshold is below 0 and we dont have -ve transactions, ignoring it in the condition.\n",
    "                        df_iqr[col].replace(amount, np.nan, inplace=True) \n",
    "                        #anything outside the quantiles replaced with np.nan(outliers removed and added to outliers df)\n",
    "                        \n",
    "            except:\n",
    "                print(col)\n",
    "    df_quartile = df_quartile.set_index('card_holder_id').dropna(axis=1) # we could use this data frame for viewing quartile info\n",
    "    return (df_iqr)"
   ]
  },
  {
   "cell_type": "code",
   "execution_count": 131,
   "metadata": {},
   "outputs": [
    {
     "data": {
      "text/html": [
       "<div>\n",
       "<style scoped>\n",
       "    .dataframe tbody tr th:only-of-type {\n",
       "        vertical-align: middle;\n",
       "    }\n",
       "\n",
       "    .dataframe tbody tr th {\n",
       "        vertical-align: top;\n",
       "    }\n",
       "\n",
       "    .dataframe thead th {\n",
       "        text-align: right;\n",
       "    }\n",
       "</style>\n",
       "<table border=\"1\" class=\"dataframe\">\n",
       "  <thead>\n",
       "    <tr style=\"text-align: right;\">\n",
       "      <th></th>\n",
       "      <th>card_holder_id</th>\n",
       "      <th>transaction_amount</th>\n",
       "      <th>transaction_date</th>\n",
       "    </tr>\n",
       "  </thead>\n",
       "  <tbody>\n",
       "    <tr>\n",
       "      <th>3164</th>\n",
       "      <td>1</td>\n",
       "      <td>2.99</td>\n",
       "      <td>2018-11-25 01:27:57</td>\n",
       "    </tr>\n",
       "    <tr>\n",
       "      <th>667</th>\n",
       "      <td>1</td>\n",
       "      <td>3.63</td>\n",
       "      <td>2018-03-09 00:31:16</td>\n",
       "    </tr>\n",
       "    <tr>\n",
       "      <th>3200</th>\n",
       "      <td>1</td>\n",
       "      <td>3.23</td>\n",
       "      <td>2018-11-29 04:05:12</td>\n",
       "    </tr>\n",
       "    <tr>\n",
       "      <th>2984</th>\n",
       "      <td>1</td>\n",
       "      <td>10.83</td>\n",
       "      <td>2018-11-05 22:30:35</td>\n",
       "    </tr>\n",
       "    <tr>\n",
       "      <th>2999</th>\n",
       "      <td>1</td>\n",
       "      <td>10.32</td>\n",
       "      <td>2018-11-07 12:48:48</td>\n",
       "    </tr>\n",
       "  </tbody>\n",
       "</table>\n",
       "</div>"
      ],
      "text/plain": [
       "      card_holder_id  transaction_amount    transaction_date\n",
       "3164               1                2.99 2018-11-25 01:27:57\n",
       "667                1                3.63 2018-03-09 00:31:16\n",
       "3200               1                3.23 2018-11-29 04:05:12\n",
       "2984               1               10.83 2018-11-05 22:30:35\n",
       "2999               1               10.32 2018-11-07 12:48:48"
      ]
     },
     "execution_count": 131,
     "metadata": {},
     "output_type": "execute_result"
    }
   ],
   "source": [
    "df_outliers_removed= get_quartiles(df_test)\n",
    "df_outliers_removed= df1.sort_values('card_holder_id')\n",
    "df_outliers_removed.head()"
   ]
  },
  {
   "cell_type": "code",
   "execution_count": 132,
   "metadata": {},
   "outputs": [
    {
     "data": {
      "application/vnd.holoviews_exec.v0+json": "",
      "text/html": [
       "<div id='6145'>\n",
       "\n",
       "\n",
       "\n",
       "\n",
       "\n",
       "  <div class=\"bk-root\" id=\"d5395dc8-db02-4e47-920e-55ed196ed33e\" data-root-id=\"6145\"></div>\n",
       "</div>\n",
       "<script type=\"application/javascript\">(function(root) {\n",
       "  function embed_document(root) {\n",
       "  var docs_json = {\"a0a610ee-0473-4413-bb1e-0e3e0383f7ca\":{\"roots\":{\"references\":[{\"attributes\":{},\"id\":\"6226\",\"type\":\"UnionRenderers\"},{\"attributes\":{\"data\":{\"x0\":[\"1\",\"2\",\"3\",\"4\",\"5\",\"6\",\"7\",\"8\",\"9\",\"10\",\"11\",\"12\",\"13\",\"14\",\"15\",\"16\",\"17\",\"18\",\"19\",\"20\",\"21\",\"22\",\"23\",\"24\",\"25\"],\"x1\":[\"1\",\"2\",\"3\",\"4\",\"5\",\"6\",\"7\",\"8\",\"9\",\"10\",\"11\",\"12\",\"13\",\"14\",\"15\",\"16\",\"17\",\"18\",\"19\",\"20\",\"21\",\"22\",\"23\",\"24\",\"25\"],\"y0\":{\"__ndarray__\":\"rkfhehSuNEDD9Shcj4IzQFK4HoXrETRAAAAAAACANUBI4XoUroc0QHsUrkfhejVAFK5H4XpUNEBcj8L1KJw1QJqZmZmZGTRA9ihcj8K1NEAzMzMzM7M0QIXrUbgeRTVASOF6FK7HNkAK16NwPQo3QI/C9ShczzRACtejcD2KNEA9CtejcH02QB+F61G4HjZACtejcD1KNkDhehSuRyE3QHE9CtejsDRAH4XrUbjeM0BmZmZmZqY0QIXrUbgehTVACtejcD0KNUA=\",\"dtype\":\"float64\",\"order\":\"little\",\"shape\":[25]},\"y1\":{\"__ndarray__\":\"16NwPQpXKEDXo3A9CpcqQPYoXI/ClSZAuB6F61FYKEDYo3A9CncsQK5H4XoULipACtejcD0KL0C4HoXrUbgnQM3MzMzM7ChArkfhehSuKECuR+F6FM4oQM3MzMzMTCtAH4XrUbieLkDhehSuRyEwQBSuR+F6FC5AhetRuB7lLUAUrkfhehQtQLgehetROClAcT0K16NwKECkcD0K1yMnQML1KFyPwihAzMzMzMyMJ0CQwvUoXA8qQChcj8L1qC5A9ihcj8LVJkA=\",\"dtype\":\"float64\",\"order\":\"little\",\"shape\":[25]}},\"selected\":{\"id\":\"6221\"},\"selection_policy\":{\"id\":\"6222\"}},\"id\":\"6183\",\"type\":\"ColumnDataSource\"},{\"attributes\":{},\"id\":\"6224\",\"type\":\"UnionRenderers\"},{\"attributes\":{},\"id\":\"6229\",\"type\":\"Selection\"},{\"attributes\":{\"source\":{\"id\":\"6233\"}},\"id\":\"6238\",\"type\":\"CDSView\"},{\"attributes\":{},\"id\":\"6162\",\"type\":\"BasicTicker\"},{\"attributes\":{\"source\":{\"id\":\"6183\"}},\"id\":\"6188\",\"type\":\"CDSView\"},{\"attributes\":{},\"id\":\"6219\",\"type\":\"Selection\"},{\"attributes\":{\"data\":{\"x0\":[[\"1\",-0.2],[\"2\",-0.2],[\"3\",-0.2],[\"4\",-0.2],[\"5\",-0.2],[\"6\",-0.2],[\"7\",-0.2],[\"8\",-0.2],[\"9\",-0.2],[\"10\",-0.2],[\"11\",-0.2],[\"12\",-0.2],[\"13\",-0.2],[\"14\",-0.2],[\"15\",-0.2],[\"16\",-0.2],[\"17\",-0.2],[\"18\",-0.2],[\"19\",-0.2],[\"20\",-0.2],[\"21\",-0.2],[\"22\",-0.2],[\"23\",-0.2],[\"24\",-0.2],[\"25\",-0.2]],\"x1\":[[\"1\",0.2],[\"2\",0.2],[\"3\",0.2],[\"4\",0.2],[\"5\",0.2],[\"6\",0.2],[\"7\",0.2],[\"8\",0.2],[\"9\",0.2],[\"10\",0.2],[\"11\",0.2],[\"12\",0.2],[\"13\",0.2],[\"14\",0.2],[\"15\",0.2],[\"16\",0.2],[\"17\",0.2],[\"18\",0.2],[\"19\",0.2],[\"20\",0.2],[\"21\",0.2],[\"22\",0.2],[\"23\",0.2],[\"24\",0.2],[\"25\",0.2]],\"y0\":[0.69,0.7,1.36,0.7,0.78,1.27,0.73,1.09,1.24,0.86,0.59,0.7,0.51,0.71,0.76,0.54,0.72,0.67,0.61,0.52,0.83,1.29,0.58,0.75,0.91],\"y1\":[0.69,0.7,1.36,0.7,0.78,1.27,0.73,1.09,1.24,0.86,0.59,0.7,0.51,0.71,0.76,0.54,0.72,0.67,0.61,0.52,0.83,1.29,0.58,0.75,0.91]},\"selected\":{\"id\":\"6225\"},\"selection_policy\":{\"id\":\"6226\"}},\"id\":\"6195\",\"type\":\"ColumnDataSource\"},{\"attributes\":{\"data_source\":{\"id\":\"6177\"},\"glyph\":{\"id\":\"6179\"},\"hover_glyph\":null,\"muted_glyph\":null,\"nonselection_glyph\":{\"id\":\"6180\"},\"selection_glyph\":null,\"view\":{\"id\":\"6182\"}},\"id\":\"6181\",\"type\":\"GlyphRenderer\"},{\"attributes\":{\"data_source\":{\"id\":\"6183\"},\"glyph\":{\"id\":\"6185\"},\"hover_glyph\":null,\"muted_glyph\":null,\"nonselection_glyph\":{\"id\":\"6186\"},\"selection_glyph\":null,\"view\":{\"id\":\"6188\"}},\"id\":\"6187\",\"type\":\"GlyphRenderer\"},{\"attributes\":{\"bottom\":{\"field\":\"bottom\"},\"fill_color\":{\"value\":\"#1f77b3\"},\"top\":{\"field\":\"top\"},\"width\":{\"value\":0.7},\"x\":{\"field\":\"index\"}},\"id\":\"6209\",\"type\":\"VBar\"},{\"attributes\":{\"data_source\":{\"id\":\"6207\"},\"glyph\":{\"id\":\"6209\"},\"hover_glyph\":null,\"muted_glyph\":null,\"nonselection_glyph\":{\"id\":\"6210\"},\"selection_glyph\":null,\"view\":{\"id\":\"6212\"}},\"id\":\"6211\",\"type\":\"GlyphRenderer\"},{\"attributes\":{\"fill_color\":{\"value\":\"black\"},\"x\":{\"field\":\"index\"},\"y\":{\"field\":\"transaction_amount\"}},\"id\":\"6179\",\"type\":\"Circle\"},{\"attributes\":{\"bottom\":{\"field\":\"bottom\"},\"fill_alpha\":{\"value\":0.1},\"fill_color\":{\"value\":\"#1f77b3\"},\"line_alpha\":{\"value\":0.1},\"top\":{\"field\":\"top\"},\"width\":{\"value\":0.7},\"x\":{\"field\":\"index\"}},\"id\":\"6210\",\"type\":\"VBar\"},{\"attributes\":{},\"id\":\"6228\",\"type\":\"UnionRenderers\"},{\"attributes\":{\"source\":{\"id\":\"6177\"}},\"id\":\"6182\",\"type\":\"CDSView\"},{\"attributes\":{\"axis_label\":\"transaction_amount\",\"bounds\":\"auto\",\"formatter\":{\"id\":\"6216\"},\"major_label_orientation\":\"horizontal\",\"ticker\":{\"id\":\"6162\"}},\"id\":\"6161\",\"type\":\"LinearAxis\"},{\"attributes\":{\"data_source\":{\"id\":\"6189\"},\"glyph\":{\"id\":\"6191\"},\"hover_glyph\":null,\"muted_glyph\":null,\"nonselection_glyph\":{\"id\":\"6192\"},\"selection_glyph\":null,\"view\":{\"id\":\"6194\"}},\"id\":\"6193\",\"type\":\"GlyphRenderer\"},{\"attributes\":{\"fill_alpha\":{\"value\":0.1},\"fill_color\":{\"value\":\"black\"},\"line_alpha\":{\"value\":0.1},\"x\":{\"field\":\"index\"},\"y\":{\"field\":\"transaction_amount\"}},\"id\":\"6180\",\"type\":\"Circle\"},{\"attributes\":{},\"id\":\"6227\",\"type\":\"Selection\"},{\"attributes\":{\"data\":{\"x0\":[\"1\",\"2\",\"3\",\"4\",\"5\",\"6\",\"7\",\"8\",\"9\",\"10\",\"11\",\"12\",\"13\",\"14\",\"15\",\"16\",\"17\",\"18\",\"19\",\"20\",\"21\",\"22\",\"23\",\"24\",\"25\"],\"x1\":[\"1\",\"2\",\"3\",\"4\",\"5\",\"6\",\"7\",\"8\",\"9\",\"10\",\"11\",\"12\",\"13\",\"14\",\"15\",\"16\",\"17\",\"18\",\"19\",\"20\",\"21\",\"22\",\"23\",\"24\",\"25\"],\"y0\":{\"__ndarray__\":\"FK5H4XoU5j9mZmZmZmbmP8P1KFyPwvU/ZmZmZmZm5j/2KFyPwvXoP1K4HoXrUfQ/XI/C9Shc5z9xPQrXo3DxP9ejcD0K1/M/hetRuB6F6z/hehSuR+HiP2ZmZmZmZuY/UrgehetR4D+4HoXrUbjmP1K4HoXrUeg/SOF6FK5H4T8K16NwPQrnP3E9CtejcOU/hetRuB6F4z+kcD0K16PgP4/C9Shcj+o/pHA9Ctej9D+PwvUoXI/iPwAAAAAAAOg/H4XrUbge7T8=\",\"dtype\":\"float64\",\"order\":\"little\",\"shape\":[25]},\"y1\":{\"__ndarray__\":\"uB6F61G4E0CQwvUoXI8QQJmZmZmZWRRAH4XrUbgeDUAzMzMzM7MLQFK4HoXr0Q9AuB6F61G4CkD2KFyPwvUIQMzMzMzMzAxAPQrXo3C9C0DsUbgehWsNQClcj8L1KBBACtejcD0KEkAUrkfhehQKQLgehetROA1AuB6F61E4EEDD9Shcj8IUQMP1KFyPwglAPQrXo3A9DEA0MzMzMzMLQNejcD0K1w5AH4XrUbgeEEDhehSuR+EOQJqZmZmZGQhAPgrXo3A9BkA=\",\"dtype\":\"float64\",\"order\":\"little\",\"shape\":[25]}},\"selected\":{\"id\":\"6223\"},\"selection_policy\":{\"id\":\"6224\"}},\"id\":\"6189\",\"type\":\"ColumnDataSource\"},{\"attributes\":{\"x0\":{\"field\":\"x0\"},\"x1\":{\"field\":\"x1\"},\"y0\":{\"field\":\"y0\"},\"y1\":{\"field\":\"y1\"}},\"id\":\"6191\",\"type\":\"Segment\"},{\"attributes\":{\"axis_label\":\"card_holder_id\",\"bounds\":\"auto\",\"formatter\":{\"id\":\"6214\"},\"major_label_orientation\":\"horizontal\",\"ticker\":{\"id\":\"6159\"}},\"id\":\"6158\",\"type\":\"CategoricalAxis\"},{\"attributes\":{\"line_alpha\":{\"value\":0.1},\"x0\":{\"field\":\"x0\"},\"x1\":{\"field\":\"x1\"},\"y0\":{\"field\":\"y0\"},\"y1\":{\"field\":\"y1\"}},\"id\":\"6192\",\"type\":\"Segment\"},{\"attributes\":{},\"id\":\"6222\",\"type\":\"UnionRenderers\"},{\"attributes\":{},\"id\":\"6154\",\"type\":\"CategoricalScale\"},{\"attributes\":{\"source\":{\"id\":\"6189\"}},\"id\":\"6194\",\"type\":\"CDSView\"},{\"attributes\":{\"data\":{\"x0\":[[\"1\",-0.2],[\"2\",-0.2],[\"3\",-0.2],[\"4\",-0.2],[\"5\",-0.2],[\"6\",-0.2],[\"7\",-0.2],[\"8\",-0.2],[\"9\",-0.2],[\"10\",-0.2],[\"11\",-0.2],[\"12\",-0.2],[\"13\",-0.2],[\"14\",-0.2],[\"15\",-0.2],[\"16\",-0.2],[\"17\",-0.2],[\"18\",-0.2],[\"19\",-0.2],[\"20\",-0.2],[\"21\",-0.2],[\"22\",-0.2],[\"23\",-0.2],[\"24\",-0.2],[\"25\",-0.2]],\"x1\":[[\"1\",0.2],[\"2\",0.2],[\"3\",0.2],[\"4\",0.2],[\"5\",0.2],[\"6\",0.2],[\"7\",0.2],[\"8\",0.2],[\"9\",0.2],[\"10\",0.2],[\"11\",0.2],[\"12\",0.2],[\"13\",0.2],[\"14\",0.2],[\"15\",0.2],[\"16\",0.2],[\"17\",0.2],[\"18\",0.2],[\"19\",0.2],[\"20\",0.2],[\"21\",0.2],[\"22\",0.2],[\"23\",0.2],[\"24\",0.2],[\"25\",0.2]],\"y0\":[20.68,19.51,20.07,21.5,20.53,21.48,20.33,21.61,20.1,20.71,20.7,21.27,22.78,23.04,20.81,20.54,22.49,22.12,22.29,23.13,20.69,19.87,20.65,21.52,21.04],\"y1\":[20.68,19.51,20.07,21.5,20.53,21.48,20.33,21.61,20.1,20.71,20.7,21.27,22.78,23.04,20.81,20.54,22.49,22.12,22.29,23.13,20.69,19.87,20.65,21.52,21.04]},\"selected\":{\"id\":\"6227\"},\"selection_policy\":{\"id\":\"6228\"}},\"id\":\"6201\",\"type\":\"ColumnDataSource\"},{\"attributes\":{},\"id\":\"6165\",\"type\":\"SaveTool\"},{\"attributes\":{},\"id\":\"6230\",\"type\":\"UnionRenderers\"},{\"attributes\":{\"align\":null,\"below\":[{\"id\":\"6158\"}],\"center\":[{\"id\":\"6160\"},{\"id\":\"6164\"},{\"id\":\"6231\"}],\"left\":[{\"id\":\"6161\"}],\"margin\":null,\"min_border_bottom\":10,\"min_border_left\":10,\"min_border_right\":10,\"min_border_top\":10,\"plot_height\":300,\"plot_width\":700,\"renderers\":[{\"id\":\"6181\"},{\"id\":\"6187\"},{\"id\":\"6193\"},{\"id\":\"6199\"},{\"id\":\"6205\"},{\"id\":\"6211\"},{\"id\":\"6237\"}],\"sizing_mode\":\"fixed\",\"title\":{\"id\":\"6150\"},\"toolbar\":{\"id\":\"6171\"},\"x_range\":{\"id\":\"6147\"},\"x_scale\":{\"id\":\"6154\"},\"y_range\":{\"id\":\"6148\"},\"y_scale\":{\"id\":\"6156\"}},\"id\":\"6149\",\"subtype\":\"Figure\",\"type\":\"Plot\"},{\"attributes\":{\"data_source\":{\"id\":\"6233\"},\"glyph\":{\"id\":\"6235\"},\"hover_glyph\":null,\"muted_glyph\":null,\"nonselection_glyph\":{\"id\":\"6236\"},\"selection_glyph\":null,\"view\":{\"id\":\"6238\"}},\"id\":\"6237\",\"type\":\"GlyphRenderer\"},{\"attributes\":{\"bottom\":{\"field\":\"bottom\"},\"fill_alpha\":{\"value\":0.1},\"fill_color\":{\"value\":\"#1f77b3\"},\"line_alpha\":{\"value\":0.1},\"top\":{\"field\":\"top\"},\"width\":{\"value\":0.7},\"x\":{\"field\":\"index\"}},\"id\":\"6236\",\"type\":\"VBar\"},{\"attributes\":{\"data_source\":{\"id\":\"6195\"},\"glyph\":{\"id\":\"6197\"},\"hover_glyph\":null,\"muted_glyph\":null,\"nonselection_glyph\":{\"id\":\"6198\"},\"selection_glyph\":null,\"view\":{\"id\":\"6200\"}},\"id\":\"6199\",\"type\":\"GlyphRenderer\"},{\"attributes\":{\"axis\":{\"id\":\"6158\"},\"grid_line_color\":null,\"ticker\":null},\"id\":\"6160\",\"type\":\"Grid\"},{\"attributes\":{\"bottom_units\":\"screen\",\"fill_alpha\":0.5,\"fill_color\":\"lightgrey\",\"left_units\":\"screen\",\"level\":\"overlay\",\"line_alpha\":1.0,\"line_color\":\"black\",\"line_dash\":[4,4],\"line_width\":2,\"right_units\":\"screen\",\"top_units\":\"screen\"},\"id\":\"6170\",\"type\":\"BoxAnnotation\"},{\"attributes\":{},\"id\":\"6225\",\"type\":\"Selection\"},{\"attributes\":{\"x0\":{\"field\":\"x0\"},\"x1\":{\"field\":\"x1\"},\"y0\":{\"field\":\"y0\"},\"y1\":{\"field\":\"y1\"}},\"id\":\"6197\",\"type\":\"Segment\"},{\"attributes\":{\"line_alpha\":{\"value\":0.1},\"x0\":{\"field\":\"x0\"},\"x1\":{\"field\":\"x1\"},\"y0\":{\"field\":\"y0\"},\"y1\":{\"field\":\"y1\"}},\"id\":\"6186\",\"type\":\"Segment\"},{\"attributes\":{\"line_alpha\":{\"value\":0.1},\"x0\":{\"field\":\"x0\"},\"x1\":{\"field\":\"x1\"},\"y0\":{\"field\":\"y0\"},\"y1\":{\"field\":\"y1\"}},\"id\":\"6198\",\"type\":\"Segment\"},{\"attributes\":{\"end\":25.392,\"reset_end\":25.392,\"reset_start\":-1.752,\"start\":-1.752,\"tags\":[[[\"transaction_amount\",\"transaction_amount\",null]]]},\"id\":\"6148\",\"type\":\"Range1d\"},{\"attributes\":{},\"id\":\"6214\",\"type\":\"CategoricalTickFormatter\"},{\"attributes\":{\"axis\":{\"id\":\"6161\"},\"dimension\":1,\"grid_line_color\":null,\"ticker\":null},\"id\":\"6164\",\"type\":\"Grid\"},{\"attributes\":{\"items\":[]},\"id\":\"6231\",\"type\":\"Legend\"},{\"attributes\":{\"source\":{\"id\":\"6195\"}},\"id\":\"6200\",\"type\":\"CDSView\"},{\"attributes\":{\"data\":{\"bottom\":{\"__ndarray__\":\"16NwPQpXKEDXo3A9CpcqQPYoXI/ClSZAuB6F61FYKEDYo3A9CncsQK5H4XoULipACtejcD0KL0C4HoXrUbgnQM3MzMzM7ChArkfhehSuKECuR+F6FM4oQM3MzMzMTCtAH4XrUbieLkDhehSuRyEwQBSuR+F6FC5AhetRuB7lLUAUrkfhehQtQLgehetROClAcT0K16NwKECkcD0K1yMnQML1KFyPwihAzMzMzMyMJ0CQwvUoXA8qQChcj8L1qC5A9ihcj8LVJkA=\",\"dtype\":\"float64\",\"order\":\"little\",\"shape\":[25]},\"index\":[\"1\",\"2\",\"3\",\"4\",\"5\",\"6\",\"7\",\"8\",\"9\",\"10\",\"11\",\"12\",\"13\",\"14\",\"15\",\"16\",\"17\",\"18\",\"19\",\"20\",\"21\",\"22\",\"23\",\"24\",\"25\"],\"top\":{\"__ndarray__\":\"pHA9CtejJECF61G4HoUkQMzMzMzMjCRAKVyPwvVoJEB6FK5H4XoeQBSuR+F61CNAUrgehetRJECPwvUoXA8gQK5H4XoUriRAXI/C9SgcJEAfhetRuF4kQOxRuB6FayRAUrgehesRJUDhehSuR2EkQHA9CtejsCRApHA9CtfjJEAUrkfhepQkQFyPwvUoXCRAzczMzMxMJEDXo3A9ClckQDMzMzMzsyRAKVyPwvUoJEBxPQrXo3AkQD4K16NwvSRAAAAAAAAAJEA=\",\"dtype\":\"float64\",\"order\":\"little\",\"shape\":[25]}},\"selected\":{\"id\":\"6229\"},\"selection_policy\":{\"id\":\"6230\"}},\"id\":\"6207\",\"type\":\"ColumnDataSource\"},{\"attributes\":{\"data\":{\"bottom\":{\"__ndarray__\":\"pHA9CtejJECF61G4HoUkQMzMzMzMjCRAKVyPwvVoJEB6FK5H4XoeQBSuR+F61CNAUrgehetRJECPwvUoXA8gQK5H4XoUriRAXI/C9SgcJEAfhetRuF4kQOxRuB6FayRAUrgehesRJUDhehSuR2EkQHA9CtejsCRApHA9CtfjJEAUrkfhepQkQFyPwvUoXCRAzczMzMxMJEDXo3A9ClckQDMzMzMzsyRAKVyPwvUoJEBxPQrXo3AkQD4K16NwvSRAAAAAAAAAJEA=\",\"dtype\":\"float64\",\"order\":\"little\",\"shape\":[25]},\"index\":[\"1\",\"2\",\"3\",\"4\",\"5\",\"6\",\"7\",\"8\",\"9\",\"10\",\"11\",\"12\",\"13\",\"14\",\"15\",\"16\",\"17\",\"18\",\"19\",\"20\",\"21\",\"22\",\"23\",\"24\",\"25\"],\"top\":{\"__ndarray__\":\"uB6F61G4E0CQwvUoXI8QQJmZmZmZWRRAH4XrUbgeDUAzMzMzM7MLQFK4HoXr0Q9AuB6F61G4CkD2KFyPwvUIQMzMzMzMzAxAPQrXo3C9C0DsUbgehWsNQClcj8L1KBBACtejcD0KEkAUrkfhehQKQLgehetROA1AuB6F61E4EEDD9Shcj8IUQMP1KFyPwglAPQrXo3A9DEA0MzMzMzMLQNejcD0K1w5AH4XrUbgeEEDhehSuR+EOQJqZmZmZGQhAPgrXo3A9BkA=\",\"dtype\":\"float64\",\"order\":\"little\",\"shape\":[25]}},\"selected\":{\"id\":\"6261\"},\"selection_policy\":{\"id\":\"6262\"}},\"id\":\"6233\",\"type\":\"ColumnDataSource\"},{\"attributes\":{\"bottom\":{\"field\":\"bottom\"},\"fill_color\":{\"value\":\"#1f77b3\"},\"top\":{\"field\":\"top\"},\"width\":{\"value\":0.7},\"x\":{\"field\":\"index\"}},\"id\":\"6235\",\"type\":\"VBar\"},{\"attributes\":{},\"id\":\"6221\",\"type\":\"Selection\"},{\"attributes\":{\"active_drag\":\"auto\",\"active_inspect\":\"auto\",\"active_multi\":null,\"active_scroll\":\"auto\",\"active_tap\":\"auto\",\"tools\":[{\"id\":\"6165\"},{\"id\":\"6166\"},{\"id\":\"6167\"},{\"id\":\"6168\"},{\"id\":\"6169\"}]},\"id\":\"6171\",\"type\":\"Toolbar\"},{\"attributes\":{\"margin\":[5,5,5,5],\"name\":\"HSpacer10781\",\"sizing_mode\":\"stretch_width\"},\"id\":\"6146\",\"type\":\"Spacer\"},{\"attributes\":{\"data_source\":{\"id\":\"6201\"},\"glyph\":{\"id\":\"6203\"},\"hover_glyph\":null,\"muted_glyph\":null,\"nonselection_glyph\":{\"id\":\"6204\"},\"selection_glyph\":null,\"view\":{\"id\":\"6206\"}},\"id\":\"6205\",\"type\":\"GlyphRenderer\"},{\"attributes\":{},\"id\":\"6223\",\"type\":\"Selection\"},{\"attributes\":{\"overlay\":{\"id\":\"6170\"}},\"id\":\"6168\",\"type\":\"BoxZoomTool\"},{\"attributes\":{},\"id\":\"6262\",\"type\":\"UnionRenderers\"},{\"attributes\":{\"x0\":{\"field\":\"x0\"},\"x1\":{\"field\":\"x1\"},\"y0\":{\"field\":\"y0\"},\"y1\":{\"field\":\"y1\"}},\"id\":\"6203\",\"type\":\"Segment\"},{\"attributes\":{\"source\":{\"id\":\"6207\"}},\"id\":\"6212\",\"type\":\"CDSView\"},{\"attributes\":{},\"id\":\"6159\",\"type\":\"CategoricalTicker\"},{\"attributes\":{},\"id\":\"6167\",\"type\":\"WheelZoomTool\"},{\"attributes\":{},\"id\":\"6216\",\"type\":\"BasicTickFormatter\"},{\"attributes\":{\"line_alpha\":{\"value\":0.1},\"x0\":{\"field\":\"x0\"},\"x1\":{\"field\":\"x1\"},\"y0\":{\"field\":\"y0\"},\"y1\":{\"field\":\"y1\"}},\"id\":\"6204\",\"type\":\"Segment\"},{\"attributes\":{\"margin\":[5,5,5,5],\"name\":\"HSpacer10782\",\"sizing_mode\":\"stretch_width\"},\"id\":\"6283\",\"type\":\"Spacer\"},{\"attributes\":{},\"id\":\"6156\",\"type\":\"LinearScale\"},{\"attributes\":{\"x0\":{\"field\":\"x0\"},\"x1\":{\"field\":\"x1\"},\"y0\":{\"field\":\"y0\"},\"y1\":{\"field\":\"y1\"}},\"id\":\"6185\",\"type\":\"Segment\"},{\"attributes\":{},\"id\":\"6220\",\"type\":\"UnionRenderers\"},{\"attributes\":{\"text\":\"Outlier Transactions Removed\",\"text_color\":{\"value\":\"black\"},\"text_font_size\":{\"value\":\"12pt\"}},\"id\":\"6150\",\"type\":\"Title\"},{\"attributes\":{},\"id\":\"6261\",\"type\":\"Selection\"},{\"attributes\":{\"children\":[{\"id\":\"6146\"},{\"id\":\"6149\"},{\"id\":\"6283\"}],\"margin\":[0,0,0,0],\"name\":\"Row10777\",\"tags\":[\"embedded\"]},\"id\":\"6145\",\"type\":\"Row\"},{\"attributes\":{},\"id\":\"6169\",\"type\":\"ResetTool\"},{\"attributes\":{\"source\":{\"id\":\"6201\"}},\"id\":\"6206\",\"type\":\"CDSView\"},{\"attributes\":{},\"id\":\"6166\",\"type\":\"PanTool\"},{\"attributes\":{\"data\":{\"index\":{\"__ndarray__\":\"\",\"dtype\":\"float64\",\"order\":\"little\",\"shape\":[0]},\"transaction_amount\":{\"__ndarray__\":\"\",\"dtype\":\"float64\",\"order\":\"little\",\"shape\":[0]}},\"selected\":{\"id\":\"6219\"},\"selection_policy\":{\"id\":\"6220\"}},\"id\":\"6177\",\"type\":\"ColumnDataSource\"},{\"attributes\":{\"factors\":[\"1\",\"2\",\"3\",\"4\",\"5\",\"6\",\"7\",\"8\",\"9\",\"10\",\"11\",\"12\",\"13\",\"14\",\"15\",\"16\",\"17\",\"18\",\"19\",\"20\",\"21\",\"22\",\"23\",\"24\",\"25\"],\"tags\":[[[\"card_holder_id\",\"card_holder_id\",null]]]},\"id\":\"6147\",\"type\":\"FactorRange\"}],\"root_ids\":[\"6145\"]},\"title\":\"Bokeh Application\",\"version\":\"2.1.1\"}};\n",
       "  var render_items = [{\"docid\":\"a0a610ee-0473-4413-bb1e-0e3e0383f7ca\",\"root_ids\":[\"6145\"],\"roots\":{\"6145\":\"d5395dc8-db02-4e47-920e-55ed196ed33e\"}}];\n",
       "  root.Bokeh.embed.embed_items_notebook(docs_json, render_items);\n",
       "  }\n",
       "if (root.Bokeh !== undefined) {\n",
       "    embed_document(root);\n",
       "  } else {\n",
       "    var attempts = 0;\n",
       "    var timer = setInterval(function(root) {\n",
       "      if (root.Bokeh !== undefined) {\n",
       "        clearInterval(timer);\n",
       "        embed_document(root);\n",
       "      } else if (document.readyState == \"complete\") {\n",
       "        attempts++;\n",
       "        if (attempts > 100) {\n",
       "          clearInterval(timer);\n",
       "          console.log(\"Bokeh: ERROR: Unable to run BokehJS code because BokehJS library is missing\");\n",
       "        }\n",
       "      }\n",
       "    }, 10, root)\n",
       "  }\n",
       "})(window);</script>"
      ],
      "text/plain": [
       ":BoxWhisker   [card_holder_id]   (transaction_amount)"
      ]
     },
     "execution_count": 132,
     "metadata": {
      "application/vnd.holoviews_exec.v0+json": {
       "id": "6145"
      }
     },
     "output_type": "execute_result"
    }
   ],
   "source": [
    "df_outliers_removed.hvplot.box(by='card_holder_id', y='transaction_amount', title=\"Outlier Transactions Removed\")"
   ]
  },
  {
   "cell_type": "code",
   "execution_count": 133,
   "metadata": {},
   "outputs": [],
   "source": [
    "def outlier_std(df_std):\n",
    "    \"\"\"function to identify outliers based on standard deviation\"\"\"\n",
    "    df_outlier_std = df_std\n",
    "    df_std = df_outlier_std.std()\n",
    "    df_mean = df_outlier_std.mean()\n",
    "    \n",
    "#     Define cutof points - considering 2 standard deviation, or accounting for  95% of all transactions into consideration. <br>\n",
    "#     primary reason is that we noticed note more than a handful intermediary amount transactions bt'n 50 to 1000<br>\n",
    "#     for this example lets consider 2 times std. we can prompt the user to define the sigma/std levels and accordingly adjust. \n",
    "    \n",
    "    std_cut_off = df_std*2\n",
    "    std_lower, std_upper = df_mean - std_cut_off , df_mean + std_cut_off\n",
    "    df_outlier = pd.DataFrame(columns=range(1, 26)) # -- This dataframe is to capture the removed outliers \n",
    "    outliers= []     \n",
    "    for col in df_outlier_std:\n",
    "        if col !='transaction_date':\n",
    "            for amount in df_outlier_std[col]:\n",
    "                if amount > std_upper[col]:\n",
    "                    outliers.append(amount)\n",
    "                    df_outlier_std[col].replace(amount, np.nan, inplace=True) \n",
    "                    #anything outside the 1 std replaced with np.nan(outliers than 1 std).\n",
    "                else:\n",
    "                    outliers.append(np.nan)\n",
    "    df_outlier[col] = outliers \n",
    "    return df_outlier_std"
   ]
  },
  {
   "cell_type": "code",
   "execution_count": 134,
   "metadata": {},
   "outputs": [
    {
     "name": "stderr",
     "output_type": "stream",
     "text": [
      "C:\\Users\\TinkerBell\\anaconda3\\envs\\pyvizenv\\lib\\site-packages\\ipykernel_launcher.py:5: FutureWarning: DataFrame.mean and DataFrame.median with numeric_only=None will include datetime64 and datetime64tz columns in a future version.\n",
      "  \"\"\"\n"
     ]
    },
    {
     "data": {
      "text/html": [
       "<div>\n",
       "<style scoped>\n",
       "    .dataframe tbody tr th:only-of-type {\n",
       "        vertical-align: middle;\n",
       "    }\n",
       "\n",
       "    .dataframe tbody tr th {\n",
       "        vertical-align: top;\n",
       "    }\n",
       "\n",
       "    .dataframe thead th {\n",
       "        text-align: right;\n",
       "    }\n",
       "</style>\n",
       "<table border=\"1\" class=\"dataframe\">\n",
       "  <thead>\n",
       "    <tr style=\"text-align: right;\">\n",
       "      <th></th>\n",
       "      <th>card_holder_id</th>\n",
       "      <th>transaction_amount</th>\n",
       "      <th>transaction_date</th>\n",
       "    </tr>\n",
       "  </thead>\n",
       "  <tbody>\n",
       "    <tr>\n",
       "      <th>3164</th>\n",
       "      <td>1</td>\n",
       "      <td>2.99</td>\n",
       "      <td>2018-11-25 01:27:57</td>\n",
       "    </tr>\n",
       "    <tr>\n",
       "      <th>274</th>\n",
       "      <td>1</td>\n",
       "      <td>10.24</td>\n",
       "      <td>2018-01-29 06:32:49</td>\n",
       "    </tr>\n",
       "    <tr>\n",
       "      <th>2784</th>\n",
       "      <td>1</td>\n",
       "      <td>5.13</td>\n",
       "      <td>2018-10-16 04:28:49</td>\n",
       "    </tr>\n",
       "    <tr>\n",
       "      <th>2768</th>\n",
       "      <td>1</td>\n",
       "      <td>11.87</td>\n",
       "      <td>2018-10-13 17:11:10</td>\n",
       "    </tr>\n",
       "    <tr>\n",
       "      <th>1561</th>\n",
       "      <td>1</td>\n",
       "      <td>1.98</td>\n",
       "      <td>2018-06-08 13:48:44</td>\n",
       "    </tr>\n",
       "  </tbody>\n",
       "</table>\n",
       "</div>"
      ],
      "text/plain": [
       "      card_holder_id  transaction_amount    transaction_date\n",
       "3164               1                2.99 2018-11-25 01:27:57\n",
       "274                1               10.24 2018-01-29 06:32:49\n",
       "2784               1                5.13 2018-10-16 04:28:49\n",
       "2768               1               11.87 2018-10-13 17:11:10\n",
       "1561               1                1.98 2018-06-08 13:48:44"
      ]
     },
     "execution_count": 134,
     "metadata": {},
     "output_type": "execute_result"
    }
   ],
   "source": [
    "df_outlier_removed_std = outlier_std(df_test)\n",
    "df_outlier_removed_std= df_outlier_removed_std.sort_values('card_holder_id')\n",
    "df_outlier_removed_std.head()"
   ]
  },
  {
   "cell_type": "code",
   "execution_count": 135,
   "metadata": {},
   "outputs": [
    {
     "data": {
      "application/vnd.holoviews_exec.v0+json": "",
      "text/html": [
       "<div id='6385'>\n",
       "\n",
       "\n",
       "\n",
       "\n",
       "\n",
       "  <div class=\"bk-root\" id=\"78d30601-51e0-46f9-a813-d83bc72e7a39\" data-root-id=\"6385\"></div>\n",
       "</div>\n",
       "<script type=\"application/javascript\">(function(root) {\n",
       "  function embed_document(root) {\n",
       "  var docs_json = {\"97030fec-b682-4dda-bfa8-284a7a3f21f5\":{\"roots\":{\"references\":[{\"attributes\":{\"data\":{\"index\":{\"__ndarray__\":\"\",\"dtype\":\"float64\",\"order\":\"little\",\"shape\":[0]},\"transaction_amount\":{\"__ndarray__\":\"\",\"dtype\":\"float64\",\"order\":\"little\",\"shape\":[0]}},\"selected\":{\"id\":\"6459\"},\"selection_policy\":{\"id\":\"6460\"}},\"id\":\"6417\",\"type\":\"ColumnDataSource\"},{\"attributes\":{\"data_source\":{\"id\":\"6417\"},\"glyph\":{\"id\":\"6419\"},\"hover_glyph\":null,\"muted_glyph\":null,\"nonselection_glyph\":{\"id\":\"6420\"},\"selection_glyph\":null,\"view\":{\"id\":\"6422\"}},\"id\":\"6421\",\"type\":\"GlyphRenderer\"},{\"attributes\":{\"bottom\":{\"field\":\"bottom\"},\"fill_alpha\":{\"value\":0.1},\"fill_color\":{\"value\":\"#1f77b3\"},\"line_alpha\":{\"value\":0.1},\"top\":{\"field\":\"top\"},\"width\":{\"value\":0.7},\"x\":{\"field\":\"index\"}},\"id\":\"6450\",\"type\":\"VBar\"},{\"attributes\":{\"line_alpha\":{\"value\":0.1},\"x0\":{\"field\":\"x0\"},\"x1\":{\"field\":\"x1\"},\"y0\":{\"field\":\"y0\"},\"y1\":{\"field\":\"y1\"}},\"id\":\"6426\",\"type\":\"Segment\"},{\"attributes\":{},\"id\":\"6502\",\"type\":\"UnionRenderers\"},{\"attributes\":{\"active_drag\":\"auto\",\"active_inspect\":\"auto\",\"active_multi\":null,\"active_scroll\":\"auto\",\"active_tap\":\"auto\",\"tools\":[{\"id\":\"6405\"},{\"id\":\"6406\"},{\"id\":\"6407\"},{\"id\":\"6408\"},{\"id\":\"6409\"}]},\"id\":\"6411\",\"type\":\"Toolbar\"},{\"attributes\":{\"bottom_units\":\"screen\",\"fill_alpha\":0.5,\"fill_color\":\"lightgrey\",\"left_units\":\"screen\",\"level\":\"overlay\",\"line_alpha\":1.0,\"line_color\":\"black\",\"line_dash\":[4,4],\"line_width\":2,\"right_units\":\"screen\",\"top_units\":\"screen\"},\"id\":\"6410\",\"type\":\"BoxAnnotation\"},{\"attributes\":{\"margin\":[5,5,5,5],\"name\":\"HSpacer11299\",\"sizing_mode\":\"stretch_width\"},\"id\":\"6523\",\"type\":\"Spacer\"},{\"attributes\":{\"fill_color\":{\"value\":\"black\"},\"x\":{\"field\":\"index\"},\"y\":{\"field\":\"transaction_amount\"}},\"id\":\"6419\",\"type\":\"Circle\"},{\"attributes\":{},\"id\":\"6466\",\"type\":\"UnionRenderers\"},{\"attributes\":{\"data\":{\"x0\":[\"1\",\"2\",\"3\",\"4\",\"5\",\"6\",\"7\",\"8\",\"9\",\"10\",\"11\",\"12\",\"13\",\"14\",\"15\",\"16\",\"17\",\"18\",\"19\",\"20\",\"21\",\"22\",\"23\",\"24\",\"25\"],\"x1\":[\"1\",\"2\",\"3\",\"4\",\"5\",\"6\",\"7\",\"8\",\"9\",\"10\",\"11\",\"12\",\"13\",\"14\",\"15\",\"16\",\"17\",\"18\",\"19\",\"20\",\"21\",\"22\",\"23\",\"24\",\"25\"],\"y0\":{\"__ndarray__\":\"rkfhehSuNEDD9Shcj4IzQFK4HoXrETRAPQrXo3B9M0BI4XoUroc0QAAAAAAAgDRAFK5H4XpUNED2KFyPwrU0QJqZmZmZGTRA9ihcj8K1NEAzMzMzM7M0QOxRuB6FKzRAuB6F61G4NEC4HoXrUbg0QHE9CtejcDRACtejcD2KNEDsUbgehWs0QAAAAAAAwDRAmpmZmZmZNECPwvUoXI80QHE9CtejsDRAH4XrUbjeM0BmZmZmZqY0QJqZmZmZWTRAexSuR+G6NEA=\",\"dtype\":\"float64\",\"order\":\"little\",\"shape\":[25]},\"y1\":{\"__ndarray__\":\"16NwPQpXKEDXo3A9CpcqQPYoXI/ClSZAZmZmZmamJ0DYo3A9CncsQM3MzMzMzChACtejcD0KL0BmZmZmZoYnQM3MzMzM7ChArkfhehSuKECuR+F6FM4oQML1KFyPYipAw/UoXI9CLkCkcD0K16MuQPYoXI/C9S1AhetRuB7lLUCamZmZmTksQGZmZmZmZihArkfhehROKEAK16NwPeomQML1KFyPwihAzMzMzMyMJ0CQwvUoXA8qQArXo3A9ii5A9ihcj8K1JkA=\",\"dtype\":\"float64\",\"order\":\"little\",\"shape\":[25]}},\"selected\":{\"id\":\"6461\"},\"selection_policy\":{\"id\":\"6462\"}},\"id\":\"6423\",\"type\":\"ColumnDataSource\"},{\"attributes\":{\"align\":null,\"below\":[{\"id\":\"6398\"}],\"center\":[{\"id\":\"6400\"},{\"id\":\"6404\"},{\"id\":\"6471\"}],\"left\":[{\"id\":\"6401\"}],\"margin\":null,\"min_border_bottom\":10,\"min_border_left\":10,\"min_border_right\":10,\"min_border_top\":10,\"plot_height\":300,\"plot_width\":700,\"renderers\":[{\"id\":\"6421\"},{\"id\":\"6427\"},{\"id\":\"6433\"},{\"id\":\"6439\"},{\"id\":\"6445\"},{\"id\":\"6451\"},{\"id\":\"6477\"}],\"sizing_mode\":\"fixed\",\"title\":{\"id\":\"6390\"},\"toolbar\":{\"id\":\"6411\"},\"x_range\":{\"id\":\"6387\"},\"x_scale\":{\"id\":\"6394\"},\"y_range\":{\"id\":\"6388\"},\"y_scale\":{\"id\":\"6396\"}},\"id\":\"6389\",\"subtype\":\"Figure\",\"type\":\"Plot\"},{\"attributes\":{},\"id\":\"6394\",\"type\":\"CategoricalScale\"},{\"attributes\":{},\"id\":\"6461\",\"type\":\"Selection\"},{\"attributes\":{\"text\":\"Outlier Transactions Removed\",\"text_color\":{\"value\":\"black\"},\"text_font_size\":{\"value\":\"12pt\"}},\"id\":\"6390\",\"type\":\"Title\"},{\"attributes\":{\"bottom\":{\"field\":\"bottom\"},\"fill_color\":{\"value\":\"#1f77b3\"},\"top\":{\"field\":\"top\"},\"width\":{\"value\":0.7},\"x\":{\"field\":\"index\"}},\"id\":\"6475\",\"type\":\"VBar\"},{\"attributes\":{},\"id\":\"6465\",\"type\":\"Selection\"},{\"attributes\":{\"source\":{\"id\":\"6447\"}},\"id\":\"6452\",\"type\":\"CDSView\"},{\"attributes\":{},\"id\":\"6462\",\"type\":\"UnionRenderers\"},{\"attributes\":{\"data_source\":{\"id\":\"6447\"},\"glyph\":{\"id\":\"6449\"},\"hover_glyph\":null,\"muted_glyph\":null,\"nonselection_glyph\":{\"id\":\"6450\"},\"selection_glyph\":null,\"view\":{\"id\":\"6452\"}},\"id\":\"6451\",\"type\":\"GlyphRenderer\"},{\"attributes\":{\"data\":{\"bottom\":{\"__ndarray__\":\"pHA9CtejJECF61G4HoUkQMzMzMzMjCRAHoXrUbheJEB6FK5H4XoeQB+F61G4niNAUrgehetRJECPwvUoXA8fQK5H4XoUriRAXI/C9SgcJEAfhetRuF4kQKRwPQrXYyRA9ihcj8L1JEBcj8L1KFwkQClcj8L1qCRApHA9CtfjJECPwvUoXI8kQD0K16NwPSRASOF6FK5HJEAUrkfhelQkQDMzMzMzsyRAKVyPwvUoJEBxPQrXo3AkQLgehetRuCRAAAAAAAAAJEA=\",\"dtype\":\"float64\",\"order\":\"little\",\"shape\":[25]},\"index\":[\"1\",\"2\",\"3\",\"4\",\"5\",\"6\",\"7\",\"8\",\"9\",\"10\",\"11\",\"12\",\"13\",\"14\",\"15\",\"16\",\"17\",\"18\",\"19\",\"20\",\"21\",\"22\",\"23\",\"24\",\"25\"],\"top\":{\"__ndarray__\":\"uB6F61G4E0CQwvUoXI8QQJmZmZmZWRRAH4XrUbgeDUAzMzMzM7MLQMP1KFyPwg9AuB6F61G4CkCkcD0K16MIQMzMzMzMzAxAPQrXo3C9C0DsUbgehWsNQJqZmZmZmQ9A9ihcj8L1EUAUrkfhehQKQB+F61G4Hg1AuB6F61E4EECuR+F6FK4TQDQzMzMzMwlArkfhehQuDEAAAAAAAAALQNejcD0K1w5AH4XrUbgeEEDhehSuR+EOQOxRuB6F6wdAKVyPwvUoBkA=\",\"dtype\":\"float64\",\"order\":\"little\",\"shape\":[25]}},\"selected\":{\"id\":\"6501\"},\"selection_policy\":{\"id\":\"6502\"}},\"id\":\"6473\",\"type\":\"ColumnDataSource\"},{\"attributes\":{\"line_alpha\":{\"value\":0.1},\"x0\":{\"field\":\"x0\"},\"x1\":{\"field\":\"x1\"},\"y0\":{\"field\":\"y0\"},\"y1\":{\"field\":\"y1\"}},\"id\":\"6432\",\"type\":\"Segment\"},{\"attributes\":{},\"id\":\"6396\",\"type\":\"LinearScale\"},{\"attributes\":{\"data\":{\"x0\":[[\"1\",-0.2],[\"2\",-0.2],[\"3\",-0.2],[\"4\",-0.2],[\"5\",-0.2],[\"6\",-0.2],[\"7\",-0.2],[\"8\",-0.2],[\"9\",-0.2],[\"10\",-0.2],[\"11\",-0.2],[\"12\",-0.2],[\"13\",-0.2],[\"14\",-0.2],[\"15\",-0.2],[\"16\",-0.2],[\"17\",-0.2],[\"18\",-0.2],[\"19\",-0.2],[\"20\",-0.2],[\"21\",-0.2],[\"22\",-0.2],[\"23\",-0.2],[\"24\",-0.2],[\"25\",-0.2]],\"x1\":[[\"1\",0.2],[\"2\",0.2],[\"3\",0.2],[\"4\",0.2],[\"5\",0.2],[\"6\",0.2],[\"7\",0.2],[\"8\",0.2],[\"9\",0.2],[\"10\",0.2],[\"11\",0.2],[\"12\",0.2],[\"13\",0.2],[\"14\",0.2],[\"15\",0.2],[\"16\",0.2],[\"17\",0.2],[\"18\",0.2],[\"19\",0.2],[\"20\",0.2],[\"21\",0.2],[\"22\",0.2],[\"23\",0.2],[\"24\",0.2],[\"25\",0.2]],\"y0\":[20.68,19.51,20.07,19.49,20.53,20.5,20.33,20.71,20.1,20.71,20.7,20.17,20.72,20.72,20.44,20.54,20.42,20.75,20.6,20.56,20.69,19.87,20.65,20.35,20.73],\"y1\":[20.68,19.51,20.07,19.49,20.53,20.5,20.33,20.71,20.1,20.71,20.7,20.17,20.72,20.72,20.44,20.54,20.42,20.75,20.6,20.56,20.69,19.87,20.65,20.35,20.73]},\"selected\":{\"id\":\"6467\"},\"selection_policy\":{\"id\":\"6468\"}},\"id\":\"6441\",\"type\":\"ColumnDataSource\"},{\"attributes\":{\"axis_label\":\"card_holder_id\",\"bounds\":\"auto\",\"formatter\":{\"id\":\"6454\"},\"major_label_orientation\":\"horizontal\",\"ticker\":{\"id\":\"6399\"}},\"id\":\"6398\",\"type\":\"CategoricalAxis\"},{\"attributes\":{\"data_source\":{\"id\":\"6435\"},\"glyph\":{\"id\":\"6437\"},\"hover_glyph\":null,\"muted_glyph\":null,\"nonselection_glyph\":{\"id\":\"6438\"},\"selection_glyph\":null,\"view\":{\"id\":\"6440\"}},\"id\":\"6439\",\"type\":\"GlyphRenderer\"},{\"attributes\":{\"data\":{\"x0\":[\"1\",\"2\",\"3\",\"4\",\"5\",\"6\",\"7\",\"8\",\"9\",\"10\",\"11\",\"12\",\"13\",\"14\",\"15\",\"16\",\"17\",\"18\",\"19\",\"20\",\"21\",\"22\",\"23\",\"24\",\"25\"],\"x1\":[\"1\",\"2\",\"3\",\"4\",\"5\",\"6\",\"7\",\"8\",\"9\",\"10\",\"11\",\"12\",\"13\",\"14\",\"15\",\"16\",\"17\",\"18\",\"19\",\"20\",\"21\",\"22\",\"23\",\"24\",\"25\"],\"y0\":{\"__ndarray__\":\"FK5H4XoU5j9mZmZmZmbmP8P1KFyPwvU/ZmZmZmZm5j/2KFyPwvXoP1K4HoXrUfQ/XI/C9Shc5z9xPQrXo3DxP9ejcD0K1/M/hetRuB6F6z/hehSuR+HiP2ZmZmZmZuY/UrgehetR4D+4HoXrUbjmP1K4HoXrUeg/SOF6FK5H4T8K16NwPQrnP3E9CtejcOU/hetRuB6F4z+kcD0K16PgP4/C9Shcj+o/pHA9Ctej9D+PwvUoXI/iPwAAAAAAAOg/H4XrUbge7T8=\",\"dtype\":\"float64\",\"order\":\"little\",\"shape\":[25]},\"y1\":{\"__ndarray__\":\"uB6F61G4E0CQwvUoXI8QQJmZmZmZWRRAH4XrUbgeDUAzMzMzM7MLQMP1KFyPwg9AuB6F61G4CkCkcD0K16MIQMzMzMzMzAxAPQrXo3C9C0DsUbgehWsNQJqZmZmZmQ9A9ihcj8L1EUAUrkfhehQKQB+F61G4Hg1AuB6F61E4EECuR+F6FK4TQDQzMzMzMwlArkfhehQuDEAAAAAAAAALQNejcD0K1w5AH4XrUbgeEEDhehSuR+EOQOxRuB6F6wdAKVyPwvUoBkA=\",\"dtype\":\"float64\",\"order\":\"little\",\"shape\":[25]}},\"selected\":{\"id\":\"6463\"},\"selection_policy\":{\"id\":\"6464\"}},\"id\":\"6429\",\"type\":\"ColumnDataSource\"},{\"attributes\":{\"axis\":{\"id\":\"6398\"},\"grid_line_color\":null,\"ticker\":null},\"id\":\"6400\",\"type\":\"Grid\"},{\"attributes\":{},\"id\":\"6454\",\"type\":\"CategoricalTickFormatter\"},{\"attributes\":{\"x0\":{\"field\":\"x0\"},\"x1\":{\"field\":\"x1\"},\"y0\":{\"field\":\"y0\"},\"y1\":{\"field\":\"y1\"}},\"id\":\"6431\",\"type\":\"Segment\"},{\"attributes\":{\"source\":{\"id\":\"6441\"}},\"id\":\"6446\",\"type\":\"CDSView\"},{\"attributes\":{},\"id\":\"6463\",\"type\":\"Selection\"},{\"attributes\":{},\"id\":\"6501\",\"type\":\"Selection\"},{\"attributes\":{},\"id\":\"6399\",\"type\":\"CategoricalTicker\"},{\"attributes\":{\"source\":{\"id\":\"6429\"}},\"id\":\"6434\",\"type\":\"CDSView\"},{\"attributes\":{\"axis_label\":\"transaction_amount\",\"bounds\":\"auto\",\"formatter\":{\"id\":\"6456\"},\"major_label_orientation\":\"horizontal\",\"ticker\":{\"id\":\"6402\"}},\"id\":\"6401\",\"type\":\"LinearAxis\"},{\"attributes\":{\"fill_alpha\":{\"value\":0.1},\"fill_color\":{\"value\":\"black\"},\"line_alpha\":{\"value\":0.1},\"x\":{\"field\":\"index\"},\"y\":{\"field\":\"transaction_amount\"}},\"id\":\"6420\",\"type\":\"Circle\"},{\"attributes\":{\"data\":{\"bottom\":{\"__ndarray__\":\"16NwPQpXKEDXo3A9CpcqQPYoXI/ClSZAZmZmZmamJ0DYo3A9CncsQM3MzMzMzChACtejcD0KL0BmZmZmZoYnQM3MzMzM7ChArkfhehSuKECuR+F6FM4oQML1KFyPYipAw/UoXI9CLkCkcD0K16MuQPYoXI/C9S1AhetRuB7lLUCamZmZmTksQGZmZmZmZihArkfhehROKEAK16NwPeomQML1KFyPwihAzMzMzMyMJ0CQwvUoXA8qQArXo3A9ii5A9ihcj8K1JkA=\",\"dtype\":\"float64\",\"order\":\"little\",\"shape\":[25]},\"index\":[\"1\",\"2\",\"3\",\"4\",\"5\",\"6\",\"7\",\"8\",\"9\",\"10\",\"11\",\"12\",\"13\",\"14\",\"15\",\"16\",\"17\",\"18\",\"19\",\"20\",\"21\",\"22\",\"23\",\"24\",\"25\"],\"top\":{\"__ndarray__\":\"pHA9CtejJECF61G4HoUkQMzMzMzMjCRAHoXrUbheJEB6FK5H4XoeQB+F61G4niNAUrgehetRJECPwvUoXA8fQK5H4XoUriRAXI/C9SgcJEAfhetRuF4kQKRwPQrXYyRA9ihcj8L1JEBcj8L1KFwkQClcj8L1qCRApHA9CtfjJECPwvUoXI8kQD0K16NwPSRASOF6FK5HJEAUrkfhelQkQDMzMzMzsyRAKVyPwvUoJEBxPQrXo3AkQLgehetRuCRAAAAAAAAAJEA=\",\"dtype\":\"float64\",\"order\":\"little\",\"shape\":[25]}},\"selected\":{\"id\":\"6469\"},\"selection_policy\":{\"id\":\"6470\"}},\"id\":\"6447\",\"type\":\"ColumnDataSource\"},{\"attributes\":{\"items\":[]},\"id\":\"6471\",\"type\":\"Legend\"},{\"attributes\":{},\"id\":\"6402\",\"type\":\"BasicTicker\"},{\"attributes\":{\"axis\":{\"id\":\"6401\"},\"dimension\":1,\"grid_line_color\":null,\"ticker\":null},\"id\":\"6404\",\"type\":\"Grid\"},{\"attributes\":{},\"id\":\"6459\",\"type\":\"Selection\"},{\"attributes\":{},\"id\":\"6468\",\"type\":\"UnionRenderers\"},{\"attributes\":{\"factors\":[\"1\",\"2\",\"3\",\"4\",\"5\",\"6\",\"7\",\"8\",\"9\",\"10\",\"11\",\"12\",\"13\",\"14\",\"15\",\"16\",\"17\",\"18\",\"19\",\"20\",\"21\",\"22\",\"23\",\"24\",\"25\"],\"tags\":[[[\"card_holder_id\",\"card_holder_id\",null]]]},\"id\":\"6387\",\"type\":\"FactorRange\"},{\"attributes\":{},\"id\":\"6467\",\"type\":\"Selection\"},{\"attributes\":{},\"id\":\"6460\",\"type\":\"UnionRenderers\"},{\"attributes\":{\"end\":22.774,\"reset_end\":22.774,\"reset_start\":-1.514,\"start\":-1.514,\"tags\":[[[\"transaction_amount\",\"transaction_amount\",null]]]},\"id\":\"6388\",\"type\":\"Range1d\"},{\"attributes\":{\"data_source\":{\"id\":\"6441\"},\"glyph\":{\"id\":\"6443\"},\"hover_glyph\":null,\"muted_glyph\":null,\"nonselection_glyph\":{\"id\":\"6444\"},\"selection_glyph\":null,\"view\":{\"id\":\"6446\"}},\"id\":\"6445\",\"type\":\"GlyphRenderer\"},{\"attributes\":{},\"id\":\"6470\",\"type\":\"UnionRenderers\"},{\"attributes\":{\"source\":{\"id\":\"6417\"}},\"id\":\"6422\",\"type\":\"CDSView\"},{\"attributes\":{},\"id\":\"6469\",\"type\":\"Selection\"},{\"attributes\":{\"x0\":{\"field\":\"x0\"},\"x1\":{\"field\":\"x1\"},\"y0\":{\"field\":\"y0\"},\"y1\":{\"field\":\"y1\"}},\"id\":\"6437\",\"type\":\"Segment\"},{\"attributes\":{\"line_alpha\":{\"value\":0.1},\"x0\":{\"field\":\"x0\"},\"x1\":{\"field\":\"x1\"},\"y0\":{\"field\":\"y0\"},\"y1\":{\"field\":\"y1\"}},\"id\":\"6444\",\"type\":\"Segment\"},{\"attributes\":{\"data_source\":{\"id\":\"6473\"},\"glyph\":{\"id\":\"6475\"},\"hover_glyph\":null,\"muted_glyph\":null,\"nonselection_glyph\":{\"id\":\"6476\"},\"selection_glyph\":null,\"view\":{\"id\":\"6478\"}},\"id\":\"6477\",\"type\":\"GlyphRenderer\"},{\"attributes\":{\"bottom\":{\"field\":\"bottom\"},\"fill_color\":{\"value\":\"#1f77b3\"},\"top\":{\"field\":\"top\"},\"width\":{\"value\":0.7},\"x\":{\"field\":\"index\"}},\"id\":\"6449\",\"type\":\"VBar\"},{\"attributes\":{},\"id\":\"6405\",\"type\":\"SaveTool\"},{\"attributes\":{\"source\":{\"id\":\"6435\"}},\"id\":\"6440\",\"type\":\"CDSView\"},{\"attributes\":{},\"id\":\"6407\",\"type\":\"WheelZoomTool\"},{\"attributes\":{\"data_source\":{\"id\":\"6423\"},\"glyph\":{\"id\":\"6425\"},\"hover_glyph\":null,\"muted_glyph\":null,\"nonselection_glyph\":{\"id\":\"6426\"},\"selection_glyph\":null,\"view\":{\"id\":\"6428\"}},\"id\":\"6427\",\"type\":\"GlyphRenderer\"},{\"attributes\":{},\"id\":\"6406\",\"type\":\"PanTool\"},{\"attributes\":{},\"id\":\"6456\",\"type\":\"BasicTickFormatter\"},{\"attributes\":{\"overlay\":{\"id\":\"6410\"}},\"id\":\"6408\",\"type\":\"BoxZoomTool\"},{\"attributes\":{\"source\":{\"id\":\"6423\"}},\"id\":\"6428\",\"type\":\"CDSView\"},{\"attributes\":{\"children\":[{\"id\":\"6386\"},{\"id\":\"6389\"},{\"id\":\"6523\"}],\"margin\":[0,0,0,0],\"name\":\"Row11294\",\"tags\":[\"embedded\"]},\"id\":\"6385\",\"type\":\"Row\"},{\"attributes\":{},\"id\":\"6409\",\"type\":\"ResetTool\"},{\"attributes\":{\"x0\":{\"field\":\"x0\"},\"x1\":{\"field\":\"x1\"},\"y0\":{\"field\":\"y0\"},\"y1\":{\"field\":\"y1\"}},\"id\":\"6443\",\"type\":\"Segment\"},{\"attributes\":{\"bottom\":{\"field\":\"bottom\"},\"fill_alpha\":{\"value\":0.1},\"fill_color\":{\"value\":\"#1f77b3\"},\"line_alpha\":{\"value\":0.1},\"top\":{\"field\":\"top\"},\"width\":{\"value\":0.7},\"x\":{\"field\":\"index\"}},\"id\":\"6476\",\"type\":\"VBar\"},{\"attributes\":{\"data\":{\"x0\":[[\"1\",-0.2],[\"2\",-0.2],[\"3\",-0.2],[\"4\",-0.2],[\"5\",-0.2],[\"6\",-0.2],[\"7\",-0.2],[\"8\",-0.2],[\"9\",-0.2],[\"10\",-0.2],[\"11\",-0.2],[\"12\",-0.2],[\"13\",-0.2],[\"14\",-0.2],[\"15\",-0.2],[\"16\",-0.2],[\"17\",-0.2],[\"18\",-0.2],[\"19\",-0.2],[\"20\",-0.2],[\"21\",-0.2],[\"22\",-0.2],[\"23\",-0.2],[\"24\",-0.2],[\"25\",-0.2]],\"x1\":[[\"1\",0.2],[\"2\",0.2],[\"3\",0.2],[\"4\",0.2],[\"5\",0.2],[\"6\",0.2],[\"7\",0.2],[\"8\",0.2],[\"9\",0.2],[\"10\",0.2],[\"11\",0.2],[\"12\",0.2],[\"13\",0.2],[\"14\",0.2],[\"15\",0.2],[\"16\",0.2],[\"17\",0.2],[\"18\",0.2],[\"19\",0.2],[\"20\",0.2],[\"21\",0.2],[\"22\",0.2],[\"23\",0.2],[\"24\",0.2],[\"25\",0.2]],\"y0\":[0.69,0.7,1.36,0.7,0.78,1.27,0.73,1.09,1.24,0.86,0.59,0.7,0.51,0.71,0.76,0.54,0.72,0.67,0.61,0.52,0.83,1.29,0.58,0.75,0.91],\"y1\":[0.69,0.7,1.36,0.7,0.78,1.27,0.73,1.09,1.24,0.86,0.59,0.7,0.51,0.71,0.76,0.54,0.72,0.67,0.61,0.52,0.83,1.29,0.58,0.75,0.91]},\"selected\":{\"id\":\"6465\"},\"selection_policy\":{\"id\":\"6466\"}},\"id\":\"6435\",\"type\":\"ColumnDataSource\"},{\"attributes\":{\"line_alpha\":{\"value\":0.1},\"x0\":{\"field\":\"x0\"},\"x1\":{\"field\":\"x1\"},\"y0\":{\"field\":\"y0\"},\"y1\":{\"field\":\"y1\"}},\"id\":\"6438\",\"type\":\"Segment\"},{\"attributes\":{\"source\":{\"id\":\"6473\"}},\"id\":\"6478\",\"type\":\"CDSView\"},{\"attributes\":{\"data_source\":{\"id\":\"6429\"},\"glyph\":{\"id\":\"6431\"},\"hover_glyph\":null,\"muted_glyph\":null,\"nonselection_glyph\":{\"id\":\"6432\"},\"selection_glyph\":null,\"view\":{\"id\":\"6434\"}},\"id\":\"6433\",\"type\":\"GlyphRenderer\"},{\"attributes\":{},\"id\":\"6464\",\"type\":\"UnionRenderers\"},{\"attributes\":{\"margin\":[5,5,5,5],\"name\":\"HSpacer11298\",\"sizing_mode\":\"stretch_width\"},\"id\":\"6386\",\"type\":\"Spacer\"},{\"attributes\":{\"x0\":{\"field\":\"x0\"},\"x1\":{\"field\":\"x1\"},\"y0\":{\"field\":\"y0\"},\"y1\":{\"field\":\"y1\"}},\"id\":\"6425\",\"type\":\"Segment\"}],\"root_ids\":[\"6385\"]},\"title\":\"Bokeh Application\",\"version\":\"2.1.1\"}};\n",
       "  var render_items = [{\"docid\":\"97030fec-b682-4dda-bfa8-284a7a3f21f5\",\"root_ids\":[\"6385\"],\"roots\":{\"6385\":\"78d30601-51e0-46f9-a813-d83bc72e7a39\"}}];\n",
       "  root.Bokeh.embed.embed_items_notebook(docs_json, render_items);\n",
       "  }\n",
       "if (root.Bokeh !== undefined) {\n",
       "    embed_document(root);\n",
       "  } else {\n",
       "    var attempts = 0;\n",
       "    var timer = setInterval(function(root) {\n",
       "      if (root.Bokeh !== undefined) {\n",
       "        clearInterval(timer);\n",
       "        embed_document(root);\n",
       "      } else if (document.readyState == \"complete\") {\n",
       "        attempts++;\n",
       "        if (attempts > 100) {\n",
       "          clearInterval(timer);\n",
       "          console.log(\"Bokeh: ERROR: Unable to run BokehJS code because BokehJS library is missing\");\n",
       "        }\n",
       "      }\n",
       "    }, 10, root)\n",
       "  }\n",
       "})(window);</script>"
      ],
      "text/plain": [
       ":BoxWhisker   [card_holder_id]   (transaction_amount)"
      ]
     },
     "execution_count": 135,
     "metadata": {
      "application/vnd.holoviews_exec.v0+json": {
       "id": "6385"
      }
     },
     "output_type": "execute_result"
    }
   ],
   "source": [
    "df_outlier_removed_std.hvplot.box(by='card_holder_id', y='transaction_amount', title=\"Outlier Transactions Removed\")"
   ]
  },
  {
   "cell_type": "code",
   "execution_count": null,
   "metadata": {},
   "outputs": [],
   "source": []
  }
 ],
 "metadata": {
  "kernelspec": {
   "display_name": "Anaconda PyvizEnv",
   "language": "python",
   "name": "pyvizenv"
  },
  "language_info": {
   "codemirror_mode": {
    "name": "ipython",
    "version": 3
   },
   "file_extension": ".py",
   "mimetype": "text/x-python",
   "name": "python",
   "nbconvert_exporter": "python",
   "pygments_lexer": "ipython3",
   "version": "3.7.7"
  }
 },
 "nbformat": 4,
 "nbformat_minor": 4
}
